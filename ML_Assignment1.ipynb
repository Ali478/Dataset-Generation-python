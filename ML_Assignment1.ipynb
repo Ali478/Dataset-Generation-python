{
 "cells": [
  {
   "cell_type": "markdown",
   "metadata": {
    "id": "2Lqgz1fE82fm"
   },
   "source": [
    "**DataSet Creation Hamza Mustafa,Asif Ahsan,Ali Murtaza,Mahrukh Rafique**"
   ]
  },
  {
   "cell_type": "code",
   "execution_count": 1,
   "metadata": {
    "id": "TMOWMmm-3uTa"
   },
   "outputs": [
    {
     "name": "stdout",
     "output_type": "stream",
     "text": [
      "/bin/bash: python: command not found\r\n"
     ]
    }
   ],
   "source": [
    "!python -m pip install image_slicer"
   ]
  },
  {
   "cell_type": "code",
   "execution_count": 7,
   "metadata": {
    "colab": {
     "base_uri": "https://localhost:8080/"
    },
    "id": "fhK2oh-LnllW",
    "outputId": "b3fd7760-aa38-4085-8085-614c03d78b79"
   },
   "outputs": [
    {
     "ename": "ModuleNotFoundError",
     "evalue": "No module named 'google.colab'",
     "output_type": "error",
     "traceback": [
      "\u001b[0;31m---------------------------------------------------------------------------\u001b[0m",
      "\u001b[0;31mModuleNotFoundError\u001b[0m                       Traceback (most recent call last)",
      "\u001b[0;32m/tmp/ipykernel_8747/1408506528.py\u001b[0m in \u001b[0;36m<module>\u001b[0;34m\u001b[0m\n\u001b[0;32m----> 1\u001b[0;31m \u001b[0;32mfrom\u001b[0m \u001b[0mgoogle\u001b[0m\u001b[0;34m.\u001b[0m\u001b[0mcolab\u001b[0m \u001b[0;32mimport\u001b[0m \u001b[0mdrive\u001b[0m\u001b[0;34m\u001b[0m\u001b[0;34m\u001b[0m\u001b[0m\n\u001b[0m\u001b[1;32m      2\u001b[0m \u001b[0mdrive\u001b[0m\u001b[0;34m.\u001b[0m\u001b[0mmount\u001b[0m\u001b[0;34m(\u001b[0m\u001b[0;34m'/content/drive'\u001b[0m\u001b[0;34m)\u001b[0m\u001b[0;34m\u001b[0m\u001b[0;34m\u001b[0m\u001b[0m\n",
      "\u001b[0;31mModuleNotFoundError\u001b[0m: No module named 'google.colab'"
     ]
    }
   ],
   "source": [
    "from google.colab import drive\n",
    "drive.mount('/content/drive')"
   ]
  },
  {
   "cell_type": "code",
   "execution_count": 5,
   "metadata": {
    "id": "XJgE8m678zTZ"
   },
   "outputs": [],
   "source": [
    "import cv2\n",
    "from skimage.io import imread\n",
    "import os\n",
    "import matplotlib\n",
    "import matplotlib.pyplot as plt\n",
    "from pylab import *\n",
    "import PIL\n",
    "from PIL import Image\n",
    "import glob, errno\n",
    "import image_slicer\n",
    "import numpy as np\n",
    "import pandas as pd"
   ]
  },
  {
   "cell_type": "code",
   "execution_count": null,
   "metadata": {
    "colab": {
     "base_uri": "https://localhost:8080/",
     "height": 269
    },
    "id": "Kt7NnqWQ8o7c",
    "outputId": "ae2419bb-3796-4913-e058-c83f0df8bc3b"
   },
   "outputs": [],
   "source": [
    "Triangles=imread(\"/content/drive/MyDrive/triangle.jpg\")\n",
    "plt.figure()\n",
    "imshow(Triangles)\n",
    "plt.show()"
   ]
  },
  {
   "cell_type": "code",
   "execution_count": null,
   "metadata": {
    "colab": {
     "base_uri": "https://localhost:8080/"
    },
    "id": "DCbdhCDw3S20",
    "outputId": "df21b669-0cae-4ae7-ae60-13217b7c0512"
   },
   "outputs": [],
   "source": [
    "print(Triangles, shape)"
   ]
  },
  {
   "cell_type": "code",
   "execution_count": null,
   "metadata": {
    "colab": {
     "base_uri": "https://localhost:8080/"
    },
    "id": "UtTOVlaZglNd",
    "outputId": "cb0ca9e3-60ff-4428-ed33-211408f5b49e"
   },
   "outputs": [],
   "source": [
    "import matplotlib.image as img\n",
    "img = cv2.imread(\"/content/drive/MyDrive/triangle.jpg\",0)\n",
    "img.shape"
   ]
  },
  {
   "cell_type": "code",
   "execution_count": null,
   "metadata": {
    "id": "bb48c093"
   },
   "outputs": [],
   "source": [
    "data = []\n",
    "for col in range(0,img.shape[0],29):\n",
    "    for row in range(0,img.shape[1],29):\n",
    "        chunk = img[col:col+30,row:row+30]\n",
    "        ls = chunk.flatten().tolist()\n",
    "        if(len(ls)!=900):\n",
    "            for i in range(len(ls),900):\n",
    "                ls.append(0)\n",
    "        data.append(ls)"
   ]
  },
  {
   "cell_type": "code",
   "execution_count": null,
   "metadata": {
    "id": "0-v6S5xvg4va"
   },
   "outputs": [],
   "source": [
    "df = pd.DataFrame(data)\n",
    "df.to_csv(\"Triangle.csv\")\n",
    "df2 = pd.read_csv(\"Triangle.csv\")\n",
    "df2[\"Labels\"] = \"Triangle\"\n",
    "df2.to_csv(\"Triangle.csv\", index=False)"
   ]
  },
  {
   "cell_type": "code",
   "execution_count": null,
   "metadata": {
    "colab": {
     "base_uri": "https://localhost:8080/",
     "height": 424
    },
    "id": "IXWDMUm9g-Vl",
    "outputId": "bfb8e5c5-b0e1-40ee-f0cb-43dd279f1d53"
   },
   "outputs": [],
   "source": [
    "df"
   ]
  },
  {
   "cell_type": "code",
   "execution_count": null,
   "metadata": {
    "colab": {
     "base_uri": "https://localhost:8080/",
     "height": 269
    },
    "id": "-gXuXylooPSL",
    "outputId": "0a77da42-0144-49e3-fad5-1bb5d4bc8f6c"
   },
   "outputs": [],
   "source": [
    "Circles=imread(\"/content/drive/MyDrive/circle.jpg\")\n",
    "plt.figure()\n",
    "imshow(Circles)\n",
    "plt.show()"
   ]
  },
  {
   "cell_type": "code",
   "execution_count": null,
   "metadata": {
    "colab": {
     "base_uri": "https://localhost:8080/"
    },
    "id": "RZ24muImpJGg",
    "outputId": "1457e034-bd7c-40d9-92fa-6c479b1941bd"
   },
   "outputs": [],
   "source": [
    "import matplotlib.image as imgc\n",
    "imgc = cv2.imread(\"/content/drive/MyDrive/circle.jpg\",0)\n",
    "imgc.shape"
   ]
  },
  {
   "cell_type": "code",
   "execution_count": null,
   "metadata": {
    "id": "du_YLggvpDlz"
   },
   "outputs": [],
   "source": [
    "datacircle = []\n",
    "for col in range(0,imgc.shape[0],29):\n",
    "    for row in range(0,imgc.shape[1],29):\n",
    "        chunk = imgc[col:col+30,row:row+30]\n",
    "        ls = chunk.flatten().tolist()\n",
    "        if(len(ls)!=900):\n",
    "            for i in range(len(ls),900):\n",
    "                ls.append(0)\n",
    "        datacircle.append(ls)"
   ]
  },
  {
   "cell_type": "code",
   "execution_count": null,
   "metadata": {
    "id": "bIcLA5-lpcKM"
   },
   "outputs": [],
   "source": [
    "df1 = pd.DataFrame(datacircle)\n",
    "df1.to_csv(\"Circle.csv\")\n",
    "df2 = pd.read_csv(\"Circle.csv\")\n",
    "df2[\"Labels\"] = \"Circle\"\n",
    "df2.to_csv(\"Circle.csv\", index=False)"
   ]
  },
  {
   "cell_type": "code",
   "execution_count": null,
   "metadata": {
    "colab": {
     "base_uri": "https://localhost:8080/",
     "height": 424
    },
    "id": "DnwSm1bBpnuy",
    "outputId": "c3fa02f8-6250-4103-d0ff-42e6aa960a7a"
   },
   "outputs": [],
   "source": [
    "df1"
   ]
  },
  {
   "cell_type": "code",
   "execution_count": null,
   "metadata": {
    "colab": {
     "base_uri": "https://localhost:8080/",
     "height": 269
    },
    "id": "AdVQhlTTqdAD",
    "outputId": "0631b17e-4bf0-4daf-dfa6-90f342a8f1c9"
   },
   "outputs": [],
   "source": [
    "Squares=imread(\"/content/drive/MyDrive/square.jpg\")\n",
    "plt.figure()\n",
    "imshow(Squares)\n",
    "plt.show()"
   ]
  },
  {
   "cell_type": "code",
   "execution_count": null,
   "metadata": {
    "colab": {
     "base_uri": "https://localhost:8080/"
    },
    "id": "KAL4rrGnrNWW",
    "outputId": "42e46e21-39f6-446b-bb3c-0d98371a307d"
   },
   "outputs": [],
   "source": [
    "import matplotlib.image as imgsq\n",
    "imgsq = cv2.imread(\"/content/drive/MyDrive/square.jpg\",0)\n",
    "imgsq.shape"
   ]
  },
  {
   "cell_type": "code",
   "execution_count": null,
   "metadata": {
    "id": "9drFa_QTrRY7"
   },
   "outputs": [],
   "source": [
    "datasquare = []\n",
    "for col in range(0,imgsq.shape[0],29):\n",
    "    for row in range(0,imgsq.shape[1],29):\n",
    "        chunk = imgsq[col:col+30,row:row+30]\n",
    "        ls = chunk.flatten().tolist()\n",
    "        if(len(ls)!=900):\n",
    "            for i in range(len(ls),900):\n",
    "                ls.append(0)\n",
    "        datasquare.append(ls)"
   ]
  },
  {
   "cell_type": "code",
   "execution_count": null,
   "metadata": {
    "id": "vfEfJj70rmff"
   },
   "outputs": [],
   "source": [
    "df2 = pd.DataFrame(datasquare)\n",
    "df2.to_csv(\"Square.csv\")\n",
    "df2 = pd.read_csv(\"Square.csv\")\n",
    "df2[\"Labels\"] = \"Square\"\n",
    "df2.to_csv(\"Square.csv\", index=False)"
   ]
  }
 ],
 "metadata": {
  "colab": {
   "collapsed_sections": [],
   "name": "ML_Assignment1.ipynb",
   "provenance": []
  },
  "kernelspec": {
   "display_name": "Python 3 (ipykernel)",
   "language": "python",
   "name": "python3"
  },
  "language_info": {
   "codemirror_mode": {
    "name": "ipython",
    "version": 3
   },
   "file_extension": ".py",
   "mimetype": "text/x-python",
   "name": "python",
   "nbconvert_exporter": "python",
   "pygments_lexer": "ipython3",
   "version": "3.8.10"
  }
 },
 "nbformat": 4,
 "nbformat_minor": 1
}
